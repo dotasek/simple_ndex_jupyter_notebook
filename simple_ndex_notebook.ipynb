{
 "cells": [
  {
   "cell_type": "code",
   "execution_count": 82,
   "metadata": {
    "collapsed": true
   },
   "outputs": [],
   "source": [
    "#Necessary imports and constants.\n",
    "from py2cytoscape.data.cyrest_client import CyRestClient\n",
    "from py2cytoscape.data.cynetwork import CyNetwork\n",
    "from py2cytoscape.data.cynetwork import BASE_URL_NETWORK\n",
    "from py2cytoscape.data.style_client import StyleClient\n",
    "import requests, json, time\n",
    "\n",
    "cy = CyRestClient()\n",
    "\n",
    "REST_ENDPOINT = 'http://localhost:1234'"
   ]
  },
  {
   "cell_type": "code",
   "execution_count": 83,
   "metadata": {
    "collapsed": true
   },
   "outputs": [],
   "source": [
    "#Query NDEx\n",
    "ndex_message_body = {\n",
    "    \"serverUrl\": \"http://ndexbio.org/v2\",\n",
    "    \"uuid\": \"583e62e1-1e5f-11e8-b939-0ac135e8bacf\"\n",
    "}\n",
    "\n",
    "ndex_response = requests.post(REST_ENDPOINT + '/cyndex2/v1/networks', data=json.dumps(ndex_message_body), headers={'Content-Type': 'application/json'})\n",
    "ndex_response_data=ndex_response.json()['data']"
   ]
  },
  {
   "cell_type": "code",
   "execution_count": 84,
   "metadata": {},
   "outputs": [
    {
     "name": "stdout",
     "output_type": "stream",
     "text": [
      "1716\n"
     ]
    }
   ],
   "source": [
    "#Get the sub-network so we can perform operations on it. This requires a connection to the collections framework, as a well as direct instantiation of CyNetwork. This is not generally required, but necessary if we're using SUIDs directly.\n",
    "collections_response = requests.get(REST_ENDPOINT + '/v1/collections/' + str(ndex_response_data['suid'])+'/subnetworks', headers={'Content-Type': 'application/json'})\n",
    "\n",
    "subnetwork_suid = str(collections_response.json()[0])\n",
    "print(subnetwork_suid)\n",
    "\n",
    "subnetwork = CyNetwork(suid=subnetwork_suid,session=cy.session,url=BASE_URL_NETWORK)\n",
    "\n",
    "#This is an annoying but necessary step... CyNDEx loads a network and returns, but Cytoscape may not have created a view for it. So, we check until the views endpoint returns something that isn't a 404\n",
    "view_response = requests.get(REST_ENDPOINT + '/v1/networks/' + subnetwork_suid + '/views').status_code\n",
    "retries = 10\n",
    "while (view_response == 404 and retries > 0):\n",
    "    view_response = requests.get(REST_ENDPOINT + '/v1/networks/' + subnetwork_suid + '/views').status_code\n",
    "    time.sleep(5)\n",
    "    retries = retries - 1"
   ]
  },
  {
   "cell_type": "code",
   "execution_count": 85,
   "metadata": {},
   "outputs": [
    {
     "data": {
      "text/plain": [
       "<Response [200]>"
      ]
     },
     "execution_count": 85,
     "metadata": {},
     "output_type": "execute_result"
    }
   ],
   "source": [
    "#Run a layout algorithm\n",
    "layout_name = 'kamada-kawai'\n",
    "cy.layout.apply(name=layout_name, network=subnetwork)\n",
    "#Below is the raw cyREST execution\n",
    "#requests.get(REST_ENDPOINT + '/v1/apply/layouts/' + layout_name + '/' + subnetwork_suid)"
   ]
  },
  {
   "cell_type": "code",
   "execution_count": 86,
   "metadata": {
    "scrolled": true
   },
   "outputs": [
    {
     "data": {
      "text/plain": [
       "<Response [200]>"
      ]
     },
     "execution_count": 86,
     "metadata": {},
     "output_type": "execute_result"
    }
   ],
   "source": [
    "#Apply a style\n",
    "style_name=\"Minimal\"\n",
    "\n",
    "style = cy.style.create(name=style_name)\n",
    "\n",
    "cy.style.apply(style, network=subnetwork)\n",
    "#Below is the raw cyREST execution\n",
    "#requests.get(REST_ENDPOINT + '/v1/apply/styles/' + style_name + '/' + subnetwork_suid)"
   ]
  },
  {
   "cell_type": "code",
   "execution_count": 87,
   "metadata": {},
   "outputs": [
    {
     "name": "stdout",
     "output_type": "stream",
     "text": [
      "Uploaded network available at: http://dev.ndexbio.org/#/network/2305fa32-3c29-11e8-9218-525400c25d22\n"
     ]
    }
   ],
   "source": [
    "#Upload to CyNDEx\n",
    "ndex_message_body = {\n",
    "    'serverUrl': 'http://dev.ndexbio.org/v2', \n",
    "    'username':'bsettle', \n",
    "    'password':'ndexTest'\n",
    "}\n",
    "ndex_response = requests.post(REST_ENDPOINT + '/cyndex2/v1/networks/' + subnetwork_suid, data=json.dumps(ndex_message_body), headers={'Content-Type': 'application/json'})\n",
    "print('Uploaded network available at: http://dev.ndexbio.org/#/network/' + str(ndex_response.json()[\"data\"][\"uuid\"]))"
   ]
  }
 ],
 "metadata": {
  "kernelspec": {
   "display_name": "Python 2",
   "language": "python",
   "name": "python2"
  },
  "language_info": {
   "codemirror_mode": {
    "name": "ipython",
    "version": 2
   },
   "file_extension": ".py",
   "mimetype": "text/x-python",
   "name": "python",
   "nbconvert_exporter": "python",
   "pygments_lexer": "ipython2",
   "version": "2.7.14"
  }
 },
 "nbformat": 4,
 "nbformat_minor": 1
}
