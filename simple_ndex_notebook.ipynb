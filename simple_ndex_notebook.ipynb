{
 "cells": [
  {
   "cell_type": "code",
   "execution_count": 2,
   "metadata": {
    "collapsed": true
   },
   "outputs": [],
   "source": [
    "#Necessary imports and constants.\n",
    "import requests, json\n",
    "\n",
    "REST_ENDPOINT = 'http://localhost:1234'"
   ]
  },
  {
   "cell_type": "code",
   "execution_count": 3,
   "metadata": {
    "collapsed": true
   },
   "outputs": [],
   "source": [
    "#Query NDEx\n",
    "ndex_message_body = {\n",
    "    \"serverUrl\": \"http://ndexbio.org/v2\",\n",
    "    \"uuid\": \"583e62e1-1e5f-11e8-b939-0ac135e8bacf\"\n",
    "}\n",
    "\n",
    "ndex_response = requests.post(REST_ENDPOINT + '/cyndex2/v1/networks', data=json.dumps(ndex_message_body), headers={'Content-Type': 'application/json'})\n",
    "ndex_response_data=ndex_response.json()['data']"
   ]
  },
  {
   "cell_type": "code",
   "execution_count": 4,
   "metadata": {},
   "outputs": [
    {
     "name": "stdout",
     "output_type": "stream",
     "text": [
      "9052\n"
     ]
    }
   ],
   "source": [
    "#Get the SUID of the sub-network so we can perform operations on it\n",
    "collections_response = requests.get(REST_ENDPOINT + '/v1/collections/' + str(ndex_response_data['suid'])+'/subnetworks', headers={'Content-Type': 'application/json'})\n",
    "\n",
    "subnetwork_suid = str(collections_response.json()[0])\n",
    "print(subnetwork_suid)"
   ]
  },
  {
   "cell_type": "code",
   "execution_count": 5,
   "metadata": {},
   "outputs": [
    {
     "data": {
      "text/plain": [
       "<Response [200]>"
      ]
     },
     "execution_count": 5,
     "metadata": {},
     "output_type": "execute_result"
    }
   ],
   "source": [
    "#Run a layout algorithm\n",
    "layout = 'kamada-kawai'\n",
    "requests.get(REST_ENDPOINT + '/v1/apply/layouts/' + layout + '/' + subnetwork_suid)"
   ]
  },
  {
   "cell_type": "code",
   "execution_count": 6,
   "metadata": {
    "scrolled": true
   },
   "outputs": [
    {
     "data": {
      "text/plain": [
       "<Response [200]>"
      ]
     },
     "execution_count": 6,
     "metadata": {},
     "output_type": "execute_result"
    }
   ],
   "source": [
    "#Apply a style\n",
    "style=\"Minimal\"\n",
    "requests.get(REST_ENDPOINT + '/v1/apply/styles/' + style + '/' + subnetwork_suid)"
   ]
  },
  {
   "cell_type": "code",
   "execution_count": 10,
   "metadata": {},
   "outputs": [
    {
     "name": "stdout",
     "output_type": "stream",
     "text": [
      "Uploaded network available at: http://dev.ndexbio.org/#/network/3f3ed39b-3932-11e8-9218-525400c25d22\n"
     ]
    }
   ],
   "source": [
    "#Upload to CyNDEx\n",
    "ndex_message_body = {\n",
    "    'serverUrl': 'http://dev.ndexbio.org/v2', \n",
    "    'username':'bsettle', \n",
    "    'password':'ndexTest'\n",
    "}\n",
    "ndex_response = requests.post(REST_ENDPOINT + '/cyndex2/v1/networks/' + subnetwork_suid, data=json.dumps(ndex_message_body), headers={'Content-Type': 'application/json'})\n",
    "print('Uploaded network available at: http://dev.ndexbio.org/#/network/' + str(ndex_response.json()[\"data\"][\"uuid\"]))"
   ]
  }
 ],
 "metadata": {
  "kernelspec": {
   "display_name": "Python 2",
   "language": "python",
   "name": "python2"
  },
  "language_info": {
   "codemirror_mode": {
    "name": "ipython",
    "version": 2
   },
   "file_extension": ".py",
   "mimetype": "text/x-python",
   "name": "python",
   "nbconvert_exporter": "python",
   "pygments_lexer": "ipython2",
   "version": "2.7.14"
  }
 },
 "nbformat": 4,
 "nbformat_minor": 1
}
