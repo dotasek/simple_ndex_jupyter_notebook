{
 "cells": [
  {
   "cell_type": "code",
   "execution_count": 38,
   "metadata": {
    "collapsed": true
   },
   "outputs": [],
   "source": [
    "#Necessary imports and constants.\n",
    "from py2cytoscape.data.cyrest_client import CyRestClient\n",
    "from py2cytoscape.data.cynetwork import CyNetwork\n",
    "from py2cytoscape.data.cynetwork import BASE_URL_NETWORK\n",
    "from py2cytoscape.data.style_client import StyleClient\n",
    "import requests, json\n",
    "\n",
    "cy = CyRestClient()\n",
    "\n",
    "REST_ENDPOINT = 'http://localhost:1234'"
   ]
  },
  {
   "cell_type": "code",
   "execution_count": null,
   "metadata": {
    "collapsed": true
   },
   "outputs": [],
   "source": [
    "#Query NDEx\n",
    "ndex_message_body = {\n",
    "    \"serverUrl\": \"http://ndexbio.org/v2\",\n",
    "    \"uuid\": \"583e62e1-1e5f-11e8-b939-0ac135e8bacf\"\n",
    "}\n",
    "\n",
    "ndex_response = requests.post(REST_ENDPOINT + '/cyndex2/v1/networks', data=json.dumps(ndex_message_body), headers={'Content-Type': 'application/json'})\n",
    "ndex_response_data=ndex_response.json()['data']"
   ]
  },
  {
   "cell_type": "code",
   "execution_count": 39,
   "metadata": {},
   "outputs": [
    {
     "name": "stdout",
     "output_type": "stream",
     "text": [
      "52\n"
     ]
    }
   ],
   "source": [
    "#Get the sub-network so we can perform operations on it. This requires a connection to the collections framework, as a well as direct instantiation of CyNetwork. This is not generally required, but necessary if we're using SUIDs directly.\n",
    "collections_response = requests.get(REST_ENDPOINT + '/v1/collections/' + str(ndex_response_data['suid'])+'/subnetworks', headers={'Content-Type': 'application/json'})\n",
    "\n",
    "subnetwork_suid = str(collections_response.json()[0])\n",
    "print(subnetwork_suid)\n",
    "\n",
    "subnetwork = CyNetwork(suid=subnetwork_suid,session=cy.session,url=BASE_URL_NETWORK)"
   ]
  },
  {
   "cell_type": "code",
   "execution_count": 40,
   "metadata": {
    "collapsed": true
   },
   "outputs": [],
   "source": [
    "#Run a layout algorithm\n",
    "layout_name = 'kamada-kawai'\n",
    "cy.layout.apply(name=layout_name, network=subnetwork)"
   ]
  },
  {
   "cell_type": "code",
   "execution_count": 41,
   "metadata": {
    "collapsed": true,
    "scrolled": true
   },
   "outputs": [],
   "source": [
    "#Apply a style\n",
    "style_name=\"Minimal\"\n",
    "\n",
    "style = cy.style.create(name=style_name)\n",
    "\n",
    "cy.style.apply(style, network=subnetwork)"
   ]
  },
  {
   "cell_type": "code",
   "execution_count": 42,
   "metadata": {},
   "outputs": [
    {
     "name": "stdout",
     "output_type": "stream",
     "text": [
      "Uploaded network available at: http://dev.ndexbio.org/#/network/3aeceba7-3c22-11e8-9218-525400c25d22\n"
     ]
    }
   ],
   "source": [
    "#Upload to CyNDEx\n",
    "ndex_message_body = {\n",
    "    'serverUrl': 'http://dev.ndexbio.org/v2', \n",
    "    'username':'bsettle', \n",
    "    'password':'ndexTest'\n",
    "}\n",
    "ndex_response = requests.post(REST_ENDPOINT + '/cyndex2/v1/networks/' + subnetwork_suid, data=json.dumps(ndex_message_body), headers={'Content-Type': 'application/json'})\n",
    "print('Uploaded network available at: http://dev.ndexbio.org/#/network/' + str(ndex_response.json()[\"data\"][\"uuid\"]))"
   ]
  }
 ],
 "metadata": {
  "kernelspec": {
   "display_name": "Python 2",
   "language": "python",
   "name": "python2"
  },
  "language_info": {
   "codemirror_mode": {
    "name": "ipython",
    "version": 2
   },
   "file_extension": ".py",
   "mimetype": "text/x-python",
   "name": "python",
   "nbconvert_exporter": "python",
   "pygments_lexer": "ipython2",
   "version": "2.7.14"
  }
 },
 "nbformat": 4,
 "nbformat_minor": 1
}
